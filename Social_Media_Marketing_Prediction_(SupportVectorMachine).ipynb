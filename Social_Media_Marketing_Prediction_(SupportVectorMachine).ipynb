{
  "cells": [
    {
      "cell_type": "markdown",
      "id": "c2ea717b",
      "metadata": {
        "id": "c2ea717b"
      },
      "source": [
        "# Name: Bitan Paul  || \n",
        "Uid: 20BCS6515 || \n",
        "Sec: 20AIML2B || \n",
        "Date of performance: 28.04.2022 || \n",
        "Sub: ML Lab ||"
      ]
    },
    {
      "cell_type": "markdown",
      "id": "16dbc519",
      "metadata": {
        "id": "16dbc519"
      },
      "source": [
        "##Aim: \n",
        "\n",
        "To implement SVM on a given dataset"
      ]
    },
    {
      "cell_type": "markdown",
      "id": "11628f1e",
      "metadata": {
        "id": "11628f1e"
      },
      "source": [
        "##Aparetus: \n",
        "\n",
        "1.Google Collab(using python3), \n",
        "\n",
        "2.Kaggel for Dataset"
      ]
    },
    {
      "cell_type": "markdown",
      "source": [
        "##Theory:\n",
        "\n",
        "###Support Vector Machine(SVM): \n",
        "is a supervised machine learning algorithm used for both classification and regression.\n",
        "\n",
        "\n",
        "###Hyperplanes: \n",
        "are decision boundaries that help classify the data points. Data points falling on either side of the hyperplane can be attributed to different classes.\n",
        "\n",
        "###A kernel: \n",
        "a modified version of SVM, called Kernel SVM, is used. Basically, the kernel SVM projects the non-linearly separable data lower dimensions to linearly separable data in higher dimensions in such a way that data points belonging to different classes are allocated to different dimensions.\n",
        "\n",
        "###C and Gamma:\n",
        "C is a hypermeter which is set before the training model and used to control error and Gamma is also a hypermeter which is set before the training model and used to give curvature weight of the decision boundary.\n",
        "\n",
        "###Radial Basis Function(RBF):\n",
        "where x, x’ are vector point in any fixed dimensional space.\n",
        "But if we expand the above exponential expression, It will go upto infinite power of x and x’, as expansion of ex contains infinite terms upto infinite power of x hence it involves terms upto infinite powers in infinite dimension.\n",
        "If we apply any of the algorithms like perceptron Algorithm or linear regression on this kernel, actually we would be applying our algorithm to new infinite-dimensional datapoint we have created. Hence it will give a hyperplane in infinite dimensions, which will give a very strong non-linear classifier or regression curve after returning to our original dimensions.\n",
        "\n",
        "![Screenshot 2022-05-05 at 12.04.29 PM.png](data:image/png;base64,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)\n"
      ],
      "metadata": {
        "id": "rMWl1z9f4lWg"
      },
      "id": "rMWl1z9f4lWg"
    },
    {
      "cell_type": "markdown",
      "id": "6b7c16a4",
      "metadata": {
        "id": "6b7c16a4"
      },
      "source": [
        "##Code:"
      ]
    },
    {
      "cell_type": "markdown",
      "id": "6c335092",
      "metadata": {
        "id": "6c335092"
      },
      "source": [
        "Importing the libraries"
      ]
    },
    {
      "cell_type": "code",
      "execution_count": null,
      "id": "6b84fc37",
      "metadata": {
        "id": "6b84fc37"
      },
      "outputs": [],
      "source": [
        "import numpy as np\n",
        "import matplotlib.pyplot as plt\n",
        "import pandas as pd"
      ]
    },
    {
      "cell_type": "markdown",
      "id": "e8630d2e",
      "metadata": {
        "id": "e8630d2e"
      },
      "source": [
        "Importing the dataset"
      ]
    },
    {
      "cell_type": "code",
      "execution_count": null,
      "id": "f6b8d18f",
      "metadata": {
        "id": "f6b8d18f",
        "outputId": "5f424356-1060-4f41-9b4c-0495c19f5bbb",
        "colab": {
          "base_uri": "https://localhost:8080/",
          "height": 419
        }
      },
      "outputs": [
        {
          "output_type": "execute_result",
          "data": {
            "text/plain": [
              "      User ID  Gender  Age  EstimatedSalary  Purchased\n",
              "0    15624510    Male   19            19000          0\n",
              "1    15810944    Male   35            20000          0\n",
              "2    15668575  Female   26            43000          0\n",
              "3    15603246  Female   27            57000          0\n",
              "4    15804002    Male   19            76000          0\n",
              "..        ...     ...  ...              ...        ...\n",
              "395  15691863  Female   46            41000          1\n",
              "396  15706071    Male   51            23000          1\n",
              "397  15654296  Female   50            20000          1\n",
              "398  15755018    Male   36            33000          0\n",
              "399  15594041  Female   49            36000          1\n",
              "\n",
              "[400 rows x 5 columns]"
            ],
            "text/html": [
              "\n",
              "  <div id=\"df-6c73b442-dc13-4653-93ed-c6a94a6a733c\">\n",
              "    <div class=\"colab-df-container\">\n",
              "      <div>\n",
              "<style scoped>\n",
              "    .dataframe tbody tr th:only-of-type {\n",
              "        vertical-align: middle;\n",
              "    }\n",
              "\n",
              "    .dataframe tbody tr th {\n",
              "        vertical-align: top;\n",
              "    }\n",
              "\n",
              "    .dataframe thead th {\n",
              "        text-align: right;\n",
              "    }\n",
              "</style>\n",
              "<table border=\"1\" class=\"dataframe\">\n",
              "  <thead>\n",
              "    <tr style=\"text-align: right;\">\n",
              "      <th></th>\n",
              "      <th>User ID</th>\n",
              "      <th>Gender</th>\n",
              "      <th>Age</th>\n",
              "      <th>EstimatedSalary</th>\n",
              "      <th>Purchased</th>\n",
              "    </tr>\n",
              "  </thead>\n",
              "  <tbody>\n",
              "    <tr>\n",
              "      <th>0</th>\n",
              "      <td>15624510</td>\n",
              "      <td>Male</td>\n",
              "      <td>19</td>\n",
              "      <td>19000</td>\n",
              "      <td>0</td>\n",
              "    </tr>\n",
              "    <tr>\n",
              "      <th>1</th>\n",
              "      <td>15810944</td>\n",
              "      <td>Male</td>\n",
              "      <td>35</td>\n",
              "      <td>20000</td>\n",
              "      <td>0</td>\n",
              "    </tr>\n",
              "    <tr>\n",
              "      <th>2</th>\n",
              "      <td>15668575</td>\n",
              "      <td>Female</td>\n",
              "      <td>26</td>\n",
              "      <td>43000</td>\n",
              "      <td>0</td>\n",
              "    </tr>\n",
              "    <tr>\n",
              "      <th>3</th>\n",
              "      <td>15603246</td>\n",
              "      <td>Female</td>\n",
              "      <td>27</td>\n",
              "      <td>57000</td>\n",
              "      <td>0</td>\n",
              "    </tr>\n",
              "    <tr>\n",
              "      <th>4</th>\n",
              "      <td>15804002</td>\n",
              "      <td>Male</td>\n",
              "      <td>19</td>\n",
              "      <td>76000</td>\n",
              "      <td>0</td>\n",
              "    </tr>\n",
              "    <tr>\n",
              "      <th>...</th>\n",
              "      <td>...</td>\n",
              "      <td>...</td>\n",
              "      <td>...</td>\n",
              "      <td>...</td>\n",
              "      <td>...</td>\n",
              "    </tr>\n",
              "    <tr>\n",
              "      <th>395</th>\n",
              "      <td>15691863</td>\n",
              "      <td>Female</td>\n",
              "      <td>46</td>\n",
              "      <td>41000</td>\n",
              "      <td>1</td>\n",
              "    </tr>\n",
              "    <tr>\n",
              "      <th>396</th>\n",
              "      <td>15706071</td>\n",
              "      <td>Male</td>\n",
              "      <td>51</td>\n",
              "      <td>23000</td>\n",
              "      <td>1</td>\n",
              "    </tr>\n",
              "    <tr>\n",
              "      <th>397</th>\n",
              "      <td>15654296</td>\n",
              "      <td>Female</td>\n",
              "      <td>50</td>\n",
              "      <td>20000</td>\n",
              "      <td>1</td>\n",
              "    </tr>\n",
              "    <tr>\n",
              "      <th>398</th>\n",
              "      <td>15755018</td>\n",
              "      <td>Male</td>\n",
              "      <td>36</td>\n",
              "      <td>33000</td>\n",
              "      <td>0</td>\n",
              "    </tr>\n",
              "    <tr>\n",
              "      <th>399</th>\n",
              "      <td>15594041</td>\n",
              "      <td>Female</td>\n",
              "      <td>49</td>\n",
              "      <td>36000</td>\n",
              "      <td>1</td>\n",
              "    </tr>\n",
              "  </tbody>\n",
              "</table>\n",
              "<p>400 rows × 5 columns</p>\n",
              "</div>\n",
              "      <button class=\"colab-df-convert\" onclick=\"convertToInteractive('df-6c73b442-dc13-4653-93ed-c6a94a6a733c')\"\n",
              "              title=\"Convert this dataframe to an interactive table.\"\n",
              "              style=\"display:none;\">\n",
              "        \n",
              "  <svg xmlns=\"http://www.w3.org/2000/svg\" height=\"24px\"viewBox=\"0 0 24 24\"\n",
              "       width=\"24px\">\n",
              "    <path d=\"M0 0h24v24H0V0z\" fill=\"none\"/>\n",
              "    <path d=\"M18.56 5.44l.94 2.06.94-2.06 2.06-.94-2.06-.94-.94-2.06-.94 2.06-2.06.94zm-11 1L8.5 8.5l.94-2.06 2.06-.94-2.06-.94L8.5 2.5l-.94 2.06-2.06.94zm10 10l.94 2.06.94-2.06 2.06-.94-2.06-.94-.94-2.06-.94 2.06-2.06.94z\"/><path d=\"M17.41 7.96l-1.37-1.37c-.4-.4-.92-.59-1.43-.59-.52 0-1.04.2-1.43.59L10.3 9.45l-7.72 7.72c-.78.78-.78 2.05 0 2.83L4 21.41c.39.39.9.59 1.41.59.51 0 1.02-.2 1.41-.59l7.78-7.78 2.81-2.81c.8-.78.8-2.07 0-2.86zM5.41 20L4 18.59l7.72-7.72 1.47 1.35L5.41 20z\"/>\n",
              "  </svg>\n",
              "      </button>\n",
              "      \n",
              "  <style>\n",
              "    .colab-df-container {\n",
              "      display:flex;\n",
              "      flex-wrap:wrap;\n",
              "      gap: 12px;\n",
              "    }\n",
              "\n",
              "    .colab-df-convert {\n",
              "      background-color: #E8F0FE;\n",
              "      border: none;\n",
              "      border-radius: 50%;\n",
              "      cursor: pointer;\n",
              "      display: none;\n",
              "      fill: #1967D2;\n",
              "      height: 32px;\n",
              "      padding: 0 0 0 0;\n",
              "      width: 32px;\n",
              "    }\n",
              "\n",
              "    .colab-df-convert:hover {\n",
              "      background-color: #E2EBFA;\n",
              "      box-shadow: 0px 1px 2px rgba(60, 64, 67, 0.3), 0px 1px 3px 1px rgba(60, 64, 67, 0.15);\n",
              "      fill: #174EA6;\n",
              "    }\n",
              "\n",
              "    [theme=dark] .colab-df-convert {\n",
              "      background-color: #3B4455;\n",
              "      fill: #D2E3FC;\n",
              "    }\n",
              "\n",
              "    [theme=dark] .colab-df-convert:hover {\n",
              "      background-color: #434B5C;\n",
              "      box-shadow: 0px 1px 3px 1px rgba(0, 0, 0, 0.15);\n",
              "      filter: drop-shadow(0px 1px 2px rgba(0, 0, 0, 0.3));\n",
              "      fill: #FFFFFF;\n",
              "    }\n",
              "  </style>\n",
              "\n",
              "      <script>\n",
              "        const buttonEl =\n",
              "          document.querySelector('#df-6c73b442-dc13-4653-93ed-c6a94a6a733c button.colab-df-convert');\n",
              "        buttonEl.style.display =\n",
              "          google.colab.kernel.accessAllowed ? 'block' : 'none';\n",
              "\n",
              "        async function convertToInteractive(key) {\n",
              "          const element = document.querySelector('#df-6c73b442-dc13-4653-93ed-c6a94a6a733c');\n",
              "          const dataTable =\n",
              "            await google.colab.kernel.invokeFunction('convertToInteractive',\n",
              "                                                     [key], {});\n",
              "          if (!dataTable) return;\n",
              "\n",
              "          const docLinkHtml = 'Like what you see? Visit the ' +\n",
              "            '<a target=\"_blank\" href=https://colab.research.google.com/notebooks/data_table.ipynb>data table notebook</a>'\n",
              "            + ' to learn more about interactive tables.';\n",
              "          element.innerHTML = '';\n",
              "          dataTable['output_type'] = 'display_data';\n",
              "          await google.colab.output.renderOutput(dataTable, element);\n",
              "          const docLink = document.createElement('div');\n",
              "          docLink.innerHTML = docLinkHtml;\n",
              "          element.appendChild(docLink);\n",
              "        }\n",
              "      </script>\n",
              "    </div>\n",
              "  </div>\n",
              "  "
            ]
          },
          "metadata": {},
          "execution_count": 17
        }
      ],
      "source": [
        "dataset = pd.read_csv('/content/Social_Network_Ads.csv')\n",
        "X = dataset.iloc[:,[2,3]].values\n",
        "y = dataset.iloc[:,4].values\n",
        "dataset"
      ]
    },
    {
      "cell_type": "code",
      "source": [
        "X"
      ],
      "metadata": {
        "colab": {
          "base_uri": "https://localhost:8080/"
        },
        "id": "Cbf7ZQXk9blq",
        "outputId": "58c40112-3bee-46b9-8d77-7f73230d1e73"
      },
      "id": "Cbf7ZQXk9blq",
      "execution_count": null,
      "outputs": [
        {
          "output_type": "execute_result",
          "data": {
            "text/plain": [
              "array([[    19,  19000],\n",
              "       [    35,  20000],\n",
              "       [    26,  43000],\n",
              "       [    27,  57000],\n",
              "       [    19,  76000],\n",
              "       [    27,  58000],\n",
              "       [    27,  84000],\n",
              "       [    32, 150000],\n",
              "       [    25,  33000],\n",
              "       [    35,  65000],\n",
              "       [    26,  80000],\n",
              "       [    26,  52000],\n",
              "       [    20,  86000],\n",
              "       [    32,  18000],\n",
              "       [    18,  82000],\n",
              "       [    29,  80000],\n",
              "       [    47,  25000],\n",
              "       [    45,  26000],\n",
              "       [    46,  28000],\n",
              "       [    48,  29000],\n",
              "       [    45,  22000],\n",
              "       [    47,  49000],\n",
              "       [    48,  41000],\n",
              "       [    45,  22000],\n",
              "       [    46,  23000],\n",
              "       [    47,  20000],\n",
              "       [    49,  28000],\n",
              "       [    47,  30000],\n",
              "       [    29,  43000],\n",
              "       [    31,  18000],\n",
              "       [    31,  74000],\n",
              "       [    27, 137000],\n",
              "       [    21,  16000],\n",
              "       [    28,  44000],\n",
              "       [    27,  90000],\n",
              "       [    35,  27000],\n",
              "       [    33,  28000],\n",
              "       [    30,  49000],\n",
              "       [    26,  72000],\n",
              "       [    27,  31000],\n",
              "       [    27,  17000],\n",
              "       [    33,  51000],\n",
              "       [    35, 108000],\n",
              "       [    30,  15000],\n",
              "       [    28,  84000],\n",
              "       [    23,  20000],\n",
              "       [    25,  79000],\n",
              "       [    27,  54000],\n",
              "       [    30, 135000],\n",
              "       [    31,  89000],\n",
              "       [    24,  32000],\n",
              "       [    18,  44000],\n",
              "       [    29,  83000],\n",
              "       [    35,  23000],\n",
              "       [    27,  58000],\n",
              "       [    24,  55000],\n",
              "       [    23,  48000],\n",
              "       [    28,  79000],\n",
              "       [    22,  18000],\n",
              "       [    32, 117000],\n",
              "       [    27,  20000],\n",
              "       [    25,  87000],\n",
              "       [    23,  66000],\n",
              "       [    32, 120000],\n",
              "       [    59,  83000],\n",
              "       [    24,  58000],\n",
              "       [    24,  19000],\n",
              "       [    23,  82000],\n",
              "       [    22,  63000],\n",
              "       [    31,  68000],\n",
              "       [    25,  80000],\n",
              "       [    24,  27000],\n",
              "       [    20,  23000],\n",
              "       [    33, 113000],\n",
              "       [    32,  18000],\n",
              "       [    34, 112000],\n",
              "       [    18,  52000],\n",
              "       [    22,  27000],\n",
              "       [    28,  87000],\n",
              "       [    26,  17000],\n",
              "       [    30,  80000],\n",
              "       [    39,  42000],\n",
              "       [    20,  49000],\n",
              "       [    35,  88000],\n",
              "       [    30,  62000],\n",
              "       [    31, 118000],\n",
              "       [    24,  55000],\n",
              "       [    28,  85000],\n",
              "       [    26,  81000],\n",
              "       [    35,  50000],\n",
              "       [    22,  81000],\n",
              "       [    30, 116000],\n",
              "       [    26,  15000],\n",
              "       [    29,  28000],\n",
              "       [    29,  83000],\n",
              "       [    35,  44000],\n",
              "       [    35,  25000],\n",
              "       [    28, 123000],\n",
              "       [    35,  73000],\n",
              "       [    28,  37000],\n",
              "       [    27,  88000],\n",
              "       [    28,  59000],\n",
              "       [    32,  86000],\n",
              "       [    33, 149000],\n",
              "       [    19,  21000],\n",
              "       [    21,  72000],\n",
              "       [    26,  35000],\n",
              "       [    27,  89000],\n",
              "       [    26,  86000],\n",
              "       [    38,  80000],\n",
              "       [    39,  71000],\n",
              "       [    37,  71000],\n",
              "       [    38,  61000],\n",
              "       [    37,  55000],\n",
              "       [    42,  80000],\n",
              "       [    40,  57000],\n",
              "       [    35,  75000],\n",
              "       [    36,  52000],\n",
              "       [    40,  59000],\n",
              "       [    41,  59000],\n",
              "       [    36,  75000],\n",
              "       [    37,  72000],\n",
              "       [    40,  75000],\n",
              "       [    35,  53000],\n",
              "       [    41,  51000],\n",
              "       [    39,  61000],\n",
              "       [    42,  65000],\n",
              "       [    26,  32000],\n",
              "       [    30,  17000],\n",
              "       [    26,  84000],\n",
              "       [    31,  58000],\n",
              "       [    33,  31000],\n",
              "       [    30,  87000],\n",
              "       [    21,  68000],\n",
              "       [    28,  55000],\n",
              "       [    23,  63000],\n",
              "       [    20,  82000],\n",
              "       [    30, 107000],\n",
              "       [    28,  59000],\n",
              "       [    19,  25000],\n",
              "       [    19,  85000],\n",
              "       [    18,  68000],\n",
              "       [    35,  59000],\n",
              "       [    30,  89000],\n",
              "       [    34,  25000],\n",
              "       [    24,  89000],\n",
              "       [    27,  96000],\n",
              "       [    41,  30000],\n",
              "       [    29,  61000],\n",
              "       [    20,  74000],\n",
              "       [    26,  15000],\n",
              "       [    41,  45000],\n",
              "       [    31,  76000],\n",
              "       [    36,  50000],\n",
              "       [    40,  47000],\n",
              "       [    31,  15000],\n",
              "       [    46,  59000],\n",
              "       [    29,  75000],\n",
              "       [    26,  30000],\n",
              "       [    32, 135000],\n",
              "       [    32, 100000],\n",
              "       [    25,  90000],\n",
              "       [    37,  33000],\n",
              "       [    35,  38000],\n",
              "       [    33,  69000],\n",
              "       [    18,  86000],\n",
              "       [    22,  55000],\n",
              "       [    35,  71000],\n",
              "       [    29, 148000],\n",
              "       [    29,  47000],\n",
              "       [    21,  88000],\n",
              "       [    34, 115000],\n",
              "       [    26, 118000],\n",
              "       [    34,  43000],\n",
              "       [    34,  72000],\n",
              "       [    23,  28000],\n",
              "       [    35,  47000],\n",
              "       [    25,  22000],\n",
              "       [    24,  23000],\n",
              "       [    31,  34000],\n",
              "       [    26,  16000],\n",
              "       [    31,  71000],\n",
              "       [    32, 117000],\n",
              "       [    33,  43000],\n",
              "       [    33,  60000],\n",
              "       [    31,  66000],\n",
              "       [    20,  82000],\n",
              "       [    33,  41000],\n",
              "       [    35,  72000],\n",
              "       [    28,  32000],\n",
              "       [    24,  84000],\n",
              "       [    19,  26000],\n",
              "       [    29,  43000],\n",
              "       [    19,  70000],\n",
              "       [    28,  89000],\n",
              "       [    34,  43000],\n",
              "       [    30,  79000],\n",
              "       [    20,  36000],\n",
              "       [    26,  80000],\n",
              "       [    35,  22000],\n",
              "       [    35,  39000],\n",
              "       [    49,  74000],\n",
              "       [    39, 134000],\n",
              "       [    41,  71000],\n",
              "       [    58, 101000],\n",
              "       [    47,  47000],\n",
              "       [    55, 130000],\n",
              "       [    52, 114000],\n",
              "       [    40, 142000],\n",
              "       [    46,  22000],\n",
              "       [    48,  96000],\n",
              "       [    52, 150000],\n",
              "       [    59,  42000],\n",
              "       [    35,  58000],\n",
              "       [    47,  43000],\n",
              "       [    60, 108000],\n",
              "       [    49,  65000],\n",
              "       [    40,  78000],\n",
              "       [    46,  96000],\n",
              "       [    59, 143000],\n",
              "       [    41,  80000],\n",
              "       [    35,  91000],\n",
              "       [    37, 144000],\n",
              "       [    60, 102000],\n",
              "       [    35,  60000],\n",
              "       [    37,  53000],\n",
              "       [    36, 126000],\n",
              "       [    56, 133000],\n",
              "       [    40,  72000],\n",
              "       [    42,  80000],\n",
              "       [    35, 147000],\n",
              "       [    39,  42000],\n",
              "       [    40, 107000],\n",
              "       [    49,  86000],\n",
              "       [    38, 112000],\n",
              "       [    46,  79000],\n",
              "       [    40,  57000],\n",
              "       [    37,  80000],\n",
              "       [    46,  82000],\n",
              "       [    53, 143000],\n",
              "       [    42, 149000],\n",
              "       [    38,  59000],\n",
              "       [    50,  88000],\n",
              "       [    56, 104000],\n",
              "       [    41,  72000],\n",
              "       [    51, 146000],\n",
              "       [    35,  50000],\n",
              "       [    57, 122000],\n",
              "       [    41,  52000],\n",
              "       [    35,  97000],\n",
              "       [    44,  39000],\n",
              "       [    37,  52000],\n",
              "       [    48, 134000],\n",
              "       [    37, 146000],\n",
              "       [    50,  44000],\n",
              "       [    52,  90000],\n",
              "       [    41,  72000],\n",
              "       [    40,  57000],\n",
              "       [    58,  95000],\n",
              "       [    45, 131000],\n",
              "       [    35,  77000],\n",
              "       [    36, 144000],\n",
              "       [    55, 125000],\n",
              "       [    35,  72000],\n",
              "       [    48,  90000],\n",
              "       [    42, 108000],\n",
              "       [    40,  75000],\n",
              "       [    37,  74000],\n",
              "       [    47, 144000],\n",
              "       [    40,  61000],\n",
              "       [    43, 133000],\n",
              "       [    59,  76000],\n",
              "       [    60,  42000],\n",
              "       [    39, 106000],\n",
              "       [    57,  26000],\n",
              "       [    57,  74000],\n",
              "       [    38,  71000],\n",
              "       [    49,  88000],\n",
              "       [    52,  38000],\n",
              "       [    50,  36000],\n",
              "       [    59,  88000],\n",
              "       [    35,  61000],\n",
              "       [    37,  70000],\n",
              "       [    52,  21000],\n",
              "       [    48, 141000],\n",
              "       [    37,  93000],\n",
              "       [    37,  62000],\n",
              "       [    48, 138000],\n",
              "       [    41,  79000],\n",
              "       [    37,  78000],\n",
              "       [    39, 134000],\n",
              "       [    49,  89000],\n",
              "       [    55,  39000],\n",
              "       [    37,  77000],\n",
              "       [    35,  57000],\n",
              "       [    36,  63000],\n",
              "       [    42,  73000],\n",
              "       [    43, 112000],\n",
              "       [    45,  79000],\n",
              "       [    46, 117000],\n",
              "       [    58,  38000],\n",
              "       [    48,  74000],\n",
              "       [    37, 137000],\n",
              "       [    37,  79000],\n",
              "       [    40,  60000],\n",
              "       [    42,  54000],\n",
              "       [    51, 134000],\n",
              "       [    47, 113000],\n",
              "       [    36, 125000],\n",
              "       [    38,  50000],\n",
              "       [    42,  70000],\n",
              "       [    39,  96000],\n",
              "       [    38,  50000],\n",
              "       [    49, 141000],\n",
              "       [    39,  79000],\n",
              "       [    39,  75000],\n",
              "       [    54, 104000],\n",
              "       [    35,  55000],\n",
              "       [    45,  32000],\n",
              "       [    36,  60000],\n",
              "       [    52, 138000],\n",
              "       [    53,  82000],\n",
              "       [    41,  52000],\n",
              "       [    48,  30000],\n",
              "       [    48, 131000],\n",
              "       [    41,  60000],\n",
              "       [    41,  72000],\n",
              "       [    42,  75000],\n",
              "       [    36, 118000],\n",
              "       [    47, 107000],\n",
              "       [    38,  51000],\n",
              "       [    48, 119000],\n",
              "       [    42,  65000],\n",
              "       [    40,  65000],\n",
              "       [    57,  60000],\n",
              "       [    36,  54000],\n",
              "       [    58, 144000],\n",
              "       [    35,  79000],\n",
              "       [    38,  55000],\n",
              "       [    39, 122000],\n",
              "       [    53, 104000],\n",
              "       [    35,  75000],\n",
              "       [    38,  65000],\n",
              "       [    47,  51000],\n",
              "       [    47, 105000],\n",
              "       [    41,  63000],\n",
              "       [    53,  72000],\n",
              "       [    54, 108000],\n",
              "       [    39,  77000],\n",
              "       [    38,  61000],\n",
              "       [    38, 113000],\n",
              "       [    37,  75000],\n",
              "       [    42,  90000],\n",
              "       [    37,  57000],\n",
              "       [    36,  99000],\n",
              "       [    60,  34000],\n",
              "       [    54,  70000],\n",
              "       [    41,  72000],\n",
              "       [    40,  71000],\n",
              "       [    42,  54000],\n",
              "       [    43, 129000],\n",
              "       [    53,  34000],\n",
              "       [    47,  50000],\n",
              "       [    42,  79000],\n",
              "       [    42, 104000],\n",
              "       [    59,  29000],\n",
              "       [    58,  47000],\n",
              "       [    46,  88000],\n",
              "       [    38,  71000],\n",
              "       [    54,  26000],\n",
              "       [    60,  46000],\n",
              "       [    60,  83000],\n",
              "       [    39,  73000],\n",
              "       [    59, 130000],\n",
              "       [    37,  80000],\n",
              "       [    46,  32000],\n",
              "       [    46,  74000],\n",
              "       [    42,  53000],\n",
              "       [    41,  87000],\n",
              "       [    58,  23000],\n",
              "       [    42,  64000],\n",
              "       [    48,  33000],\n",
              "       [    44, 139000],\n",
              "       [    49,  28000],\n",
              "       [    57,  33000],\n",
              "       [    56,  60000],\n",
              "       [    49,  39000],\n",
              "       [    39,  71000],\n",
              "       [    47,  34000],\n",
              "       [    48,  35000],\n",
              "       [    48,  33000],\n",
              "       [    47,  23000],\n",
              "       [    45,  45000],\n",
              "       [    60,  42000],\n",
              "       [    39,  59000],\n",
              "       [    46,  41000],\n",
              "       [    51,  23000],\n",
              "       [    50,  20000],\n",
              "       [    36,  33000],\n",
              "       [    49,  36000]])"
            ]
          },
          "metadata": {},
          "execution_count": 33
        }
      ]
    },
    {
      "cell_type": "markdown",
      "id": "4c827a70",
      "metadata": {
        "id": "4c827a70"
      },
      "source": [
        "Splitting the dataset into the Training set and Test set"
      ]
    },
    {
      "cell_type": "code",
      "execution_count": null,
      "id": "6d92cd7c",
      "metadata": {
        "id": "6d92cd7c"
      },
      "outputs": [],
      "source": [
        "from sklearn.model_selection import train_test_split\n",
        "X_train, X_test, y_train, y_test  = train_test_split (X, y, test_size = 0.25, random_state = 0)"
      ]
    },
    {
      "cell_type": "code",
      "execution_count": null,
      "id": "63a331bc",
      "metadata": {
        "id": "63a331bc"
      },
      "outputs": [],
      "source": [
        "?train_test_split"
      ]
    },
    {
      "cell_type": "markdown",
      "id": "41afe4e2",
      "metadata": {
        "id": "41afe4e2"
      },
      "source": [
        "Data Visualization"
      ]
    },
    {
      "cell_type": "code",
      "execution_count": null,
      "id": "d06d34d9",
      "metadata": {
        "id": "d06d34d9",
        "outputId": "fe197d2f-80da-4984-8b32-cb55a629e83e",
        "colab": {
          "base_uri": "https://localhost:8080/",
          "height": 295
        }
      },
      "outputs": [
        {
          "output_type": "display_data",
          "data": {
            "text/plain": [
              "<Figure size 432x288 with 1 Axes>"
            ],
            "image/png": "[encoded data removed]"
          },
          "metadata": {
            "needs_background": "light"
          }
        }
      ],
      "source": [
        "plt.scatter(X_train[:,0], X_train[:, 1], c = y_train)\n",
        "plt.xlabel(\"age\")\n",
        "plt.ylabel(\"estimated salary\")\n",
        "plt.title(\"Tarining Data\")\n",
        "plt.show()"
      ]
    },
    {
      "cell_type": "code",
      "execution_count": null,
      "id": "f707b5bb",
      "metadata": {
        "id": "f707b5bb",
        "outputId": "3abea5f3-f7b2-4302-b1f2-27e662d060ac",
        "colab": {
          "base_uri": "https://localhost:8080/",
          "height": 295
        }
      },
      "outputs": [
        {
          "output_type": "display_data",
          "data": {
            "text/plain": [
              "<Figure size 432x288 with 1 Axes>"
            ],
            "image/png": "[encoded data removed]"
          },
          "metadata": {
            "needs_background": "light"
          }
        }
      ],
      "source": [
        "plt.scatter(X_test[:,0], X_test[:, 1], c = y_test)\n",
        "plt.xlabel(\"age\")\n",
        "plt.ylabel(\"estimated salary\")\n",
        "plt.title(\"Tarining Data\")\n",
        "plt.show()"
      ]
    },
    {
      "cell_type": "markdown",
      "id": "b7d265ab",
      "metadata": {
        "id": "b7d265ab"
      },
      "source": [
        "Feature Scaling"
      ]
    },
    {
      "cell_type": "code",
      "execution_count": null,
      "id": "a1ddf523",
      "metadata": {
        "id": "a1ddf523"
      },
      "outputs": [],
      "source": [
        "from sklearn.preprocessing import StandardScaler\n",
        "sc = StandardScaler()\n",
        "X_train = sc.fit_transform (X_train)\n",
        "X_test = sc.fit_transform (X_test)"
      ]
    },
    {
      "cell_type": "markdown",
      "id": "681b031c",
      "metadata": {
        "id": "681b031c"
      },
      "source": [
        "Applying SVM to the Training set"
      ]
    },
    {
      "cell_type": "code",
      "execution_count": null,
      "id": "25a9199b",
      "metadata": {
        "id": "25a9199b",
        "outputId": "a4396ce9-ffc1-4841-c144-f34b46d12fbe",
        "colab": {
          "base_uri": "https://localhost:8080/"
        }
      },
      "outputs": [
        {
          "output_type": "execute_result",
          "data": {
            "text/plain": [
              "SVC(kernel='linear', random_state=0)"
            ]
          },
          "metadata": {},
          "execution_count": 24
        }
      ],
      "source": [
        "from sklearn.svm import SVC\n",
        "classifier = SVC(kernel = 'linear', random_state = 0)\n",
        "classifier.fit(X_train, y_train)"
      ]
    },
    {
      "cell_type": "markdown",
      "id": "221676d4",
      "metadata": {
        "id": "221676d4"
      },
      "source": [
        "Predicting the Test set results"
      ]
    },
    {
      "cell_type": "markdown",
      "id": "ac032751",
      "metadata": {
        "id": "ac032751"
      },
      "source": [
        "Output:"
      ]
    },
    {
      "cell_type": "code",
      "execution_count": null,
      "id": "fe36293a",
      "metadata": {
        "id": "fe36293a",
        "outputId": "1ea99e37-add8-4ac4-a68a-7d1c70a97612",
        "colab": {
          "base_uri": "https://localhost:8080/"
        }
      },
      "outputs": [
        {
          "output_type": "execute_result",
          "data": {
            "text/plain": [
              "array([0, 0, 0, 0, 0, 0, 0, 1, 0, 0, 0, 0, 0, 0, 0, 1, 0, 0, 1, 0, 0, 1,\n",
              "       0, 1, 0, 1, 0, 0, 0, 0, 0, 0, 1, 0, 0, 0, 0, 0, 0, 1, 0, 0, 0, 0,\n",
              "       1, 0, 0, 1, 0, 1, 1, 0, 0, 1, 1, 0, 0, 0, 0, 0, 0, 1, 0, 1, 0, 1,\n",
              "       0, 0, 0, 1, 1, 0, 0, 0, 0, 0, 1, 0, 1, 1, 1, 1, 0, 0, 1, 1, 0, 1,\n",
              "       0, 0, 0, 1, 0, 0, 0, 0, 0, 0, 1, 1])"
            ]
          },
          "metadata": {},
          "execution_count": 25
        }
      ],
      "source": [
        "y_pred = classifier.predict(X_test)\n",
        "y_pred"
      ]
    },
    {
      "cell_type": "code",
      "execution_count": null,
      "id": "9f3bf15f",
      "metadata": {
        "id": "9f3bf15f",
        "outputId": "36f30992-bf67-4c57-8d11-d7955b0395a3",
        "colab": {
          "base_uri": "https://localhost:8080/"
        }
      },
      "outputs": [
        {
          "output_type": "execute_result",
          "data": {
            "text/plain": [
              "0.88"
            ]
          },
          "metadata": {},
          "execution_count": 26
        }
      ],
      "source": [
        "from sklearn import metrics\n",
        "metrics.accuracy_score(y_test, y_pred)"
      ]
    },
    {
      "cell_type": "markdown",
      "id": "c0cf6779",
      "metadata": {
        "id": "c0cf6779"
      },
      "source": [
        "RBF SVM parameters\n",
        "\n",
        "Radial Basis Function (RBF) kernel SVM"
      ]
    },
    {
      "cell_type": "code",
      "execution_count": null,
      "id": "b015d2ea",
      "metadata": {
        "id": "b015d2ea",
        "outputId": "848d0896-bbe0-4a84-aeb6-323901073b41",
        "colab": {
          "base_uri": "https://localhost:8080/"
        }
      },
      "outputs": [
        {
          "output_type": "execute_result",
          "data": {
            "text/plain": [
              "0.93"
            ]
          },
          "metadata": {},
          "execution_count": 27
        }
      ],
      "source": [
        "from sklearn.svm import SVC\n",
        "classifier = SVC(kernel='rbf', random_state=0)\n",
        "classifier.fit(X_train, y_train)\n",
        "y_pred = classifier.predict(X_test)\n",
        "metrics.accuracy_score(y_test, y_pred)"
      ]
    },
    {
      "cell_type": "code",
      "execution_count": null,
      "id": "6a657a3b",
      "metadata": {
        "id": "6a657a3b",
        "outputId": "05968bfa-3516-4a41-84a2-6a359700d9b4",
        "colab": {
          "base_uri": "https://localhost:8080/"
        }
      },
      "outputs": [
        {
          "output_type": "execute_result",
          "data": {
            "text/plain": [
              "0.94"
            ]
          },
          "metadata": {},
          "execution_count": 28
        }
      ],
      "source": [
        "from sklearn.svm import SVC\n",
        "classifier = SVC(kernel='rbf', gamma=5, C=7, random_state=0)\n",
        "classifier.fit(X_train, y_train)\n",
        "y_pred = classifier.predict(X_test)\n",
        "metrics.accuracy_score(y_test, y_pred)"
      ]
    },
    {
      "cell_type": "markdown",
      "id": "c23d7ef4",
      "metadata": {
        "id": "c23d7ef4"
      },
      "source": [
        "Confusion Matrix"
      ]
    },
    {
      "cell_type": "code",
      "execution_count": null,
      "id": "8a5f48e6",
      "metadata": {
        "id": "8a5f48e6",
        "outputId": "1a9d827d-25da-4120-bd60-8b7da091ca41",
        "colab": {
          "base_uri": "https://localhost:8080/"
        }
      },
      "outputs": [
        {
          "output_type": "execute_result",
          "data": {
            "text/plain": [
              "array([[64,  4],\n",
              "       [ 2, 30]])"
            ]
          },
          "metadata": {},
          "execution_count": 29
        }
      ],
      "source": [
        "from sklearn.metrics import accuracy_score, confusion_matrix\n",
        "confusion_matrix(y_test, y_pred)"
      ]
    },
    {
      "cell_type": "markdown",
      "id": "7673076e",
      "metadata": {
        "id": "7673076e"
      },
      "source": [
        "Visualising the Training set results"
      ]
    },
    {
      "cell_type": "code",
      "execution_count": null,
      "id": "05c15802",
      "metadata": {
        "id": "05c15802",
        "outputId": "71a6f089-6ed7-4528-8f17-23f22fd9b847",
        "colab": {
          "base_uri": "https://localhost:8080/"
        }
      },
      "outputs": [
        {
          "output_type": "execute_result",
          "data": {
            "text/plain": [
              "0.88"
            ]
          },
          "metadata": {},
          "execution_count": 30
        }
      ],
      "source": [
        "from sklearn.svm import SVC\n",
        "classifier = SVC(kernel = 'linear', random_state = 0)\n",
        "classifier.fit(X_train, y_train)\n",
        "y_pred = classifier.predict(X_test)\n",
        "metrics.accuracy_score(y_test,y_pred)"
      ]
    },
    {
      "cell_type": "markdown",
      "id": "918f2e11",
      "metadata": {
        "id": "918f2e11"
      },
      "source": [
        "CREATE HYPERPLANE"
      ]
    },
    {
      "cell_type": "code",
      "execution_count": null,
      "id": "fb734f16",
      "metadata": {
        "id": "fb734f16",
        "outputId": "e79bb3d6-f146-48ff-c03e-a5c7678be477",
        "colab": {
          "base_uri": "https://localhost:8080/",
          "height": 248
        }
      },
      "outputs": [
        {
          "output_type": "display_data",
          "data": {
            "text/plain": [
              "<Figure size 432x288 with 1 Axes>"
            ],
            "image/png": "[encoded data removed]"
          },
          "metadata": {
            "needs_background": "light"
          }
        }
      ],
      "source": [
        "plt.scatter(X_test[:,0], X_test[:, 1], c = y_test)\n",
        "\n",
        "w = classifier.coef_[0]\n",
        "a = - w[0] / w[1]\n",
        "xx = np.linspace(-2.5, 2.5)\n",
        "yy = a* xx -(classifier.intercept_[0])/ w[1]\n",
        "\n",
        "plt.plot(xx,yy)\n",
        "plt.axis(\"off\"),\n",
        "plt.show();"
      ]
    },
    {
      "cell_type": "markdown",
      "source": [
        "##Results: \n",
        "\n",
        "We have applied support vector classifier on the given dataset & we got a accuracy score of 0.93. \n",
        "\n",
        "Here we Firstly imported the dataset and plot it on a scatterplot to understand the relation between the features.\n",
        "\n",
        "Then observing the plot, we decided to apply a support vector classifier to separate the dataset in two different classes.\n",
        "\n",
        "But the data was not linearly separable in lower dimentions. So we used a RBF Karnel to plot the data in higher dimentions and make it linearly separable.\n",
        "\n",
        "Then we applied the support vector classifier on the dataset and got an acuuracy of 0.93\n",
        "\n",
        "we plotted a confusion matrix as well for better understanding of the results."
      ],
      "metadata": {
        "id": "Tvw5shWM3v5S"
      },
      "id": "Tvw5shWM3v5S"
    },
    {
      "cell_type": "markdown",
      "id": "9d318b97",
      "metadata": {
        "id": "9d318b97"
      },
      "source": [
        "##Learning Outcome: \n",
        "\n",
        "\n",
        "    1. Learnt the SVM algo\n",
        "    2. Learnt about different kernels\n",
        "    3. Learnt how to view different attributes of a function\n",
        "    4. Learnt how to download and upload dataset\n",
        "    5. Learnt about Data visualization and Data splitting"
      ]
    }
  ],
  "metadata": {
    "kernelspec": {
      "display_name": "Python 3",
      "language": "python",
      "name": "python3"
    },
    "language_info": {
      "codemirror_mode": {
        "name": "ipython",
        "version": 3
      },
      "file_extension": ".py",
      "mimetype": "text/x-python",
      "name": "python",
      "nbconvert_exporter": "python",
      "pygments_lexer": "ipython3",
      "version": "3.8.8"
    },
    "colab": {
      "name": "Social Media Marketing Prediction (SupportVectorMachine).ipynb",
      "provenance": []
    }
  },
  "nbformat": 4,
  "nbformat_minor": 5
}